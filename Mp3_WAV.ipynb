{
  "nbformat": 4,
  "nbformat_minor": 0,
  "metadata": {
    "colab": {
      "provenance": []
    },
    "kernelspec": {
      "name": "python3",
      "display_name": "Python 3"
    },
    "language_info": {
      "name": "python"
    }
  },
  "cells": [
    {
      "cell_type": "code",
      "source": [
        "pip install pydub"
      ],
      "metadata": {
        "id": "xox3KLEPDGyp"
      },
      "execution_count": null,
      "outputs": []
    },
    {
      "cell_type": "code",
      "execution_count": 8,
      "metadata": {
        "id": "Y4HeHFSOCTUi"
      },
      "outputs": [],
      "source": [
        "# MP3\n",
        "# Mp3 to Wav\n",
        "import os\n",
        "import sys\n",
        "import glob\n",
        "from pydub import AudioSegment\n",
        "\n",
        "def convert_to_wav(input_folder, output_folder):\n",
        "    if not os.path.exists(output_folder):\n",
        "        os.makedirs(output_folder)\n",
        "\n",
        "    mp3_files = glob.glob(os.path.join(input_folder, \"*.mp3\"))\n",
        "\n",
        "    for mp3_file in mp3_files:\n",
        "        wav_file = os.path.splitext(os.path.basename(mp3_file))[0] + \".wav\"\n",
        "        wav_path = os.path.join(output_folder, wav_file)\n",
        "        sound = AudioSegment.from_mp3(mp3_file)\n",
        "        sound.export(wav_path, format=\"wav\")\n",
        "        print(f\"Converted {mp3_file} to {wav_path}\")\n",
        "\n",
        "if __name__ == '__main__':\n",
        "    if len(sys.argv) != 3:\n",
        "        print(\"Usage: python mp3_to_wav.py input_folder output_folder\")\n",
        "        sys.exit(1)\n",
        "\n",
        "    input_folder = sys.argv[1]\n",
        "    output_folder = sys.argv[2]\n",
        "    convert_to_wav(input_folder, output_folder)\n"
      ]
    }
  ]
}